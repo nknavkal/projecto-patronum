{
 "cells": [
  {
   "cell_type": "code",
   "execution_count": 3,
   "metadata": {
    "collapsed": false
   },
   "outputs": [
    {
     "ename": "SyntaxError",
     "evalue": "invalid syntax (<ipython-input-3-8d4d393851a1>, line 10)",
     "output_type": "error",
     "traceback": [
      "\u001b[0;36m  File \u001b[0;32m\"<ipython-input-3-8d4d393851a1>\"\u001b[0;36m, line \u001b[0;32m10\u001b[0m\n\u001b[0;31m    if !(guess.index(third) > lower && guess.index(third) < upper):\u001b[0m\n\u001b[0m       ^\u001b[0m\n\u001b[0;31mSyntaxError\u001b[0m\u001b[0;31m:\u001b[0m invalid syntax\n"
     ]
    }
   ],
   "source": [
    "def tester(guess, constraints):\n",
    "    #guess is an array\n",
    "    satisfied = 0\n",
    "    for constraint in constraints:\n",
    "        first = constraint[0]\n",
    "        second = constraint[1]\n",
    "        third = constraint[2]\n",
    "        lower = min(guess.index(first), guess.index(second))\n",
    "        upper = max(guess.index(first), guess.index(second))\n",
    "        if !(guess.index(third) > lower && guess.index(third) < upper):\n",
    "            satisfied += 1\n",
    "    return satisfied\n",
    "        \n",
    "        \n",
    "    "
   ]
  },
  {
   "cell_type": "code",
   "execution_count": null,
   "metadata": {
    "collapsed": true
   },
   "outputs": [],
   "source": []
  }
 ],
 "metadata": {
  "kernelspec": {
   "display_name": "Python 2",
   "language": "python",
   "name": "python2"
  },
  "language_info": {
   "codemirror_mode": {
    "name": "ipython",
    "version": 2
   },
   "file_extension": ".py",
   "mimetype": "text/x-python",
   "name": "python",
   "nbconvert_exporter": "python",
   "pygments_lexer": "ipython2",
   "version": "2.7.12"
  }
 },
 "nbformat": 4,
 "nbformat_minor": 2
}

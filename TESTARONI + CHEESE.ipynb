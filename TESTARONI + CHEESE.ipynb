{
 "cells": [
  {
   "cell_type": "code",
   "execution_count": 89,
   "metadata": {},
   "outputs": [],
   "source": [
    "\n",
    "\n",
    "def readFile(inputFile):\n",
    "    fileobj = open(inputFile, \"r\")\n",
    "    a = list(fileobj)\n",
    "    numNames = int(a[0].split()[0])\n",
    "    numConstraints = int(a[1].split()[0])\n",
    "    constraints = []\n",
    "    for i in a[2:]:\n",
    "        constraints.append(i.split()[:3])\n",
    "    #print(constraints)\n",
    "    return(makeOutsidePairs(numNames, constraints))\n",
    "    \n",
    "def alphaTup(string1, string2):\n",
    "    return tuple([min(string1, string2), max(string1, string2)])\n",
    "\n",
    "def makeOutsidePairs(numNames, constraints):\n",
    "    nameSet = set()\n",
    "    outerSet = set()\n",
    "    for constraint in constraints:\n",
    "        for element in constraint:\n",
    "            nameSet.add(element)\n",
    "        if len(nameSet) == numNames:\n",
    "            break\n",
    "    for name1 in nameSet:\n",
    "        for name2 in nameSet:\n",
    "            outerSet.add(alphaTup(name1, name2))\n",
    "    print(len(outerSet))\n",
    "    for constraint in constraints:\n",
    "        a = alphaTup(constraint[0], constraint[1])\n",
    "        if outerSet.__contains__(a):\n",
    "            outerSet.remove(a)\n",
    "    numAppears = {}\n",
    "    for name in nameSet:\n",
    "        numAppears[name] = 0\n",
    "    for constraint in constraints:\n",
    "        numAppears[constraint[0]] += 1 \n",
    "        numAppears[constraint[1]] += 1\n",
    "    for \n",
    "    print(len(outerSet))\n",
    "    \n",
    "        \n",
    "\n"
   ]
  },
  {
   "cell_type": "code",
   "execution_count": 90,
   "metadata": {},
   "outputs": [
    {
     "name": "stdout",
     "output_type": "stream",
     "text": [
      "210\n",
      "56\n"
     ]
    }
   ],
   "source": [
    "readFile(\"phase2_inputs/inputs20/input20_0.in\")"
   ]
  },
  {
   "cell_type": "code",
   "execution_count": null,
   "metadata": {},
   "outputs": [],
   "source": []
  },
  {
   "cell_type": "markdown",
   "metadata": {},
   "source": []
  }
 ],
 "metadata": {
  "kernelspec": {
   "display_name": "Python 3",
   "language": "python",
   "name": "python3"
  },
  "language_info": {
   "codemirror_mode": {
    "name": "ipython",
    "version": 3
   },
   "file_extension": ".py",
   "mimetype": "text/x-python",
   "name": "python",
   "nbconvert_exporter": "python",
   "pygments_lexer": "ipython3",
   "version": "3.6.2"
  }
 },
 "nbformat": 4,
 "nbformat_minor": 2
}

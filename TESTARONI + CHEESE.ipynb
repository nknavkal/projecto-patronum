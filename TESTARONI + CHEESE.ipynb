{
 "cells": [
  {
   "cell_type": "code",
   "execution_count": 86,
   "metadata": {
    "collapsed": false,
    "deletable": true,
    "editable": true
   },
   "outputs": [],
   "source": [
    "\n",
    "\n",
    "def readFile(inputFile):\n",
    "    fileobj = open(inputFile, \"r\")\n",
    "    a = list(fileobj)\n",
    "    numNames = int(a[0].split()[0])\n",
    "    constraints = []\n",
    "    for i in a[2:]:\n",
    "        constraints.append(tuple(i.split()[:3]))\n",
    "    return constraints, numNames\n",
    "    #return(makeOutsidePairs(numNames, constraints))\n",
    "    \n",
    "def alphaTup(string1, string2):\n",
    "    return tuple([min(string1, string2), max(string1, string2)])\n",
    "\n",
    "def getThirds(constraints, wizzNames):\n",
    "    appearsInThird = {}\n",
    "    for name in wizzNames:\n",
    "        appearsInThird[name] = 0\n",
    "    for constraint in constraints:\n",
    "        appearsInThird[constraint[2]] += 1\n",
    "    return appearsInThird\n",
    "\n",
    "\n",
    "def addWizz(constraints, ordering, wizzMap, wizzNames, wizzToAdd):\n",
    "    #finds out if there is a viable solution along this path\n",
    "    ordering.append(wizzToAdd)\n",
    "    if len(ordering) == len(wizzMap):\n",
    "        return ordering\n",
    "    wizzNames.remove(wizzToAdd)\n",
    "    removed = set()\n",
    "    recentDeps = []\n",
    "    i = 0\n",
    "    while i < len(constraints):\n",
    "        cons = constraints[i]\n",
    "        if wizzToAdd == cons[0] or wizzToAdd == cons[1] or wizzToAdd == cons[2]:\n",
    "            #if its in the 3rd space, constraint satisfied. If not, add it to dependencies, satisfy it later\n",
    "            removed.add(cons)\n",
    "            constraints.remove(cons)\n",
    "            if cons[1] == wizzToAdd or cons[0] == wizzToAdd:\n",
    "                if cons[1] != wizzToAdd:\n",
    "                    wizzMap[cons[2]].addDep(cons[1])\n",
    "                else:\n",
    "                    wizzMap[cons[2]].addDep(cons[0])\n",
    "                recentDeps.append(cons[2])\n",
    "        else:\n",
    "            i+=1\n",
    "                \n",
    "    inThird = getThirds(constraints, wizzNames)\n",
    "    ret = -1\n",
    "    for key, value in sorted(inThird.iteritems(), key=lambda (k,v): (v,k)):\n",
    "        depsSatisfied = True;\n",
    "        for dep in wizzMap[key].deps:\n",
    "            if (dep not in ordering):\n",
    "                depsSatisfied = False\n",
    "        if depsSatisfied:\n",
    "            #check if viable solutions\n",
    "            ret = addWizz(constraints, ordering, wizzMap, wizzNames, key)\n",
    "            if ret != -1:\n",
    "                break\n",
    "        \n",
    "    if ret == -1:\n",
    "        #didn't find optimal ordering, undo changes from previos step\n",
    "        ordering.pop()\n",
    "        for cons in removed:\n",
    "            constraints.append(cons)\n",
    "        wizzNames.add(wizzToAdd)\n",
    "        for wizz in recentDeps:\n",
    "            wizzMap[wizz].removeLastDep()\n",
    "    return ret\n",
    "        \n",
    "def getWizzNames(constraints, numNames):\n",
    "    nameSet = set()\n",
    "    for cons in constraints:\n",
    "        nameSet.add(cons[0])\n",
    "        nameSet.add(cons[1])\n",
    "        nameSet.add(cons[2])\n",
    "        if len(nameSet) == numNames:\n",
    "            break\n",
    "    return nameSet\n",
    "    \n",
    "def main(fileName):\n",
    "    constraints, numNames = readFile(fileName)\n",
    "    safety = constraints[:]\n",
    "    ret = 0\n",
    "    ordering = []\n",
    "    wizzMap = {}\n",
    "    wizzNames = getWizzNames(constraints, numNames)\n",
    "    inThird = getThirds(constraints, wizzNames)\n",
    "    \n",
    "    \n",
    "    \n",
    "    for wizz in wizzNames:\n",
    "        wizzMap[wizz] = Wizzrobe(wizz)\n",
    "    #print(wizzMap) \n",
    "    for key, value in sorted(inThird.iteritems(), key=lambda (k,v): (v,k)):\n",
    "        ret = addWizz(constraints, ordering, wizzMap, wizzNames, key)\n",
    "        if ret != -1:\n",
    "            break\n",
    "    print(ret)\n",
    "    print(tester(ret, safety))\n",
    "    \n",
    "    \n",
    "    \n",
    "         \n",
    "class Wizzrobe:\n",
    "    def __init__(self, name):\n",
    "        self.name = name\n",
    "        self.deps = []\n",
    "        self.numDeps = 0\n",
    "    def addDep(self, otherWizz):\n",
    "        self.deps.append(otherWizz)\n",
    "        self.numDeps += 1\n",
    "    def removeLastDep(self):\n",
    "        self.deps.pop()\n",
    "        self.numDeps -= 1\n",
    "      \n",
    "\n",
    "        \n",
    "    \n",
    "def tester(guess, constraints):\n",
    "    #guess is an array\n",
    "    satisfied = 0\n",
    "    for constraint in constraints:\n",
    "        first = constraint[0]\n",
    "        second = constraint[1]\n",
    "        third = constraint[2]\n",
    "        lower = min(guess.index(first), guess.index(second))\n",
    "        upper = max(guess.index(first), guess.index(second))\n",
    "        if guess.index(third) < lower or guess.index(third) > upper:\n",
    "            satisfied += 1\n",
    "    return satisfied\n",
    "\n"
   ]
  },
  {
   "cell_type": "code",
   "execution_count": 87,
   "metadata": {
    "collapsed": false,
    "deletable": true,
    "editable": true
   },
   "outputs": [
    {
     "name": "stdout",
     "output_type": "stream",
     "text": [
      "['Brent', 'Katherine', 'Lillian', 'Alexandra', 'Elliott', 'Martha', 'Damien', 'Bruno', 'Kathy', 'Vince', 'Skylar', 'Jason', 'Alice', 'Roxanne', 'Lorenzo', 'Trenton', 'Lynn', 'Jai', 'Tracey', 'Rena', 'Lorri', 'Stanley', 'Dexter', 'Rylee', 'Theodore', 'Ali', 'Kiley', 'Eimear', 'Cathy', 'Andy', 'Stewart', 'Toni', 'Claudia', 'Nasir', 'Jade']\n",
      "500\n"
     ]
    }
   ],
   "source": [
    "main(\"phase2_inputs/inputs35/input35_.in\")"
   ]
  },
  {
   "cell_type": "code",
   "execution_count": null,
   "metadata": {
    "collapsed": false,
    "deletable": true,
    "editable": true
   },
   "outputs": [],
   "source": [
    "\n",
    "    "
   ]
  },
  {
   "cell_type": "markdown",
   "metadata": {
    "deletable": true,
    "editable": true
   },
   "source": []
  },
  {
   "cell_type": "code",
   "execution_count": null,
   "metadata": {
    "collapsed": true,
    "deletable": true,
    "editable": true
   },
   "outputs": [],
   "source": []
  },
  {
   "cell_type": "code",
   "execution_count": null,
   "metadata": {
    "collapsed": false,
    "deletable": true,
    "editable": true
   },
   "outputs": [],
   "source": []
  },
  {
   "cell_type": "code",
   "execution_count": null,
   "metadata": {
    "collapsed": true,
    "deletable": true,
    "editable": true
   },
   "outputs": [],
   "source": []
  },
  {
   "cell_type": "code",
   "execution_count": null,
   "metadata": {
    "collapsed": true,
    "deletable": true,
    "editable": true
   },
   "outputs": [],
   "source": []
  },
  {
   "cell_type": "code",
   "execution_count": null,
   "metadata": {
    "collapsed": true,
    "deletable": true,
    "editable": true
   },
   "outputs": [],
   "source": []
  },
  {
   "cell_type": "code",
   "execution_count": null,
   "metadata": {
    "collapsed": true,
    "deletable": true,
    "editable": true
   },
   "outputs": [],
   "source": []
  }
 ],
 "metadata": {
  "kernelspec": {
   "display_name": "Python 2",
   "language": "python",
   "name": "python2"
  },
  "language_info": {
   "codemirror_mode": {
    "name": "ipython",
    "version": 2
   },
   "file_extension": ".py",
   "mimetype": "text/x-python",
   "name": "python",
   "nbconvert_exporter": "python",
   "pygments_lexer": "ipython2",
   "version": "2.7.12"
  }
 },
 "nbformat": 4,
 "nbformat_minor": 2
}

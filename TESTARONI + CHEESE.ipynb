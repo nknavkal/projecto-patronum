{
 "cells": [
  {
   "cell_type": "code",
   "execution_count": 64,
   "metadata": {
    "collapsed": false,
    "deletable": true,
    "editable": true
   },
   "outputs": [],
   "source": [
    "\n",
    "\n",
    "def readFile(inputFile):\n",
    "    fileobj = open(inputFile, \"r\")\n",
    "    a = list(fileobj)\n",
    "    numNames = int(a[0].split()[0])\n",
    "    numConstraints = int(a[1].split()[0])\n",
    "    constraints = []\n",
    "    for i in a[2:]:\n",
    "        constraints.append(i.split()[:3])\n",
    "    print(len(constraints))\n",
    "    return(makeOutsidePairs(numNames, constraints))\n",
    "    \n",
    "def alphaTup(string1, string2):\n",
    "    return tuple([min(string1, string2), max(string1, string2)])\n",
    "\n",
    "def makeOutsidePairs(numNames, constraints):\n",
    "    nameSet = set()\n",
    "    outerSet = set()\n",
    "    for constraint in constraints:\n",
    "        for element in constraint:\n",
    "            nameSet.add(element)\n",
    "        if len(nameSet) == numNames:\n",
    "            break\n",
    "    for name1 in nameSet:\n",
    "        for name2 in nameSet:\n",
    "            outerSet.add(alphaTup(name1, name2))\n",
    "    print(len(outerSet))\n",
    "    for constraint in constraints:\n",
    "        a = alphaTup(constraint[0], constraint[1])\n",
    "        if outerSet.__contains__(a):\n",
    "            outerSet.remove(a)\n",
    "    appearsInPair = {}\n",
    "    appearsInThird = {}\n",
    "    for name in nameSet:\n",
    "        appearsInPair[name] = 0\n",
    "        appearsInThird[name] = 0\n",
    "    for pair in outerSet:\n",
    "        appearsInPair[pair[0]] += 1 \n",
    "        appearsInPair[pair[1]] += 1\n",
    "    for constraint in constraints:\n",
    "        appearsInThird[constraint[2]] += 1\n",
    "    #for name in appearsInPair:\n",
    "        #print(name, appearsInPair[name])\n",
    "    #print(\"Third!!!!!!!!!!!!!!!!!!!!!!!!!!\")\n",
    "    #for name in appearsInThird:\n",
    "        #print(name, appearsInThird[name])\n",
    "    guessMaker(appearsInThird, constraints)\n",
    "    #print(len(outerSet))\n",
    "    \n",
    "    \n",
    "def tester(guess, constraints):\n",
    "    #guess is an array\n",
    "    satisfied = 0\n",
    "    for constraint in constraints:\n",
    "        first = constraint[0]\n",
    "        second = constraint[1]\n",
    "        third = constraint[2]\n",
    "        lower = min(guess.index(first), guess.index(second))\n",
    "        upper = max(guess.index(first), guess.index(second))\n",
    "        if guess.index(third) < lower | guess.index(third) > upper:\n",
    "            satisfied += 1\n",
    "    return satisfied\n",
    "        \n",
    "        \n",
    "def guessMaker(inThird, constraints):\n",
    "    #inThird is a dictionary\n",
    "    frontList = []\n",
    "    backList = []\n",
    "    fb = 0\n",
    "    for key, value in sorted(inThird.iteritems(), key=lambda (k,v): (v,k)):\n",
    "        if fb % 2 == 0:\n",
    "            frontList.append(key)\n",
    "        else:\n",
    "            backList.append(key)\n",
    "        fb += 1\n",
    "    frontList.reverse()\n",
    "    full = frontList + backList\n",
    "    numPassed = tester(full, constraints)\n",
    "    print(\"passed\", numPassed,  str(100*numPassed/len(constraints)) + \"%\")\n",
    "    return full\n",
    "    \n",
    "         \n",
    "            \n",
    "\n"
   ]
  },
  {
   "cell_type": "code",
   "execution_count": 76,
   "metadata": {
    "collapsed": false,
    "deletable": true,
    "editable": true
   },
   "outputs": [
    {
     "name": "stdout",
     "output_type": "stream",
     "text": [
      "500\n",
      "210\n",
      "('passed', 145, '29%')\n"
     ]
    }
   ],
   "source": [
    "readFile(\"phase2_inputs/inputs20/input20_0.in\")"
   ]
  },
  {
   "cell_type": "code",
   "execution_count": null,
   "metadata": {
    "collapsed": false,
    "deletable": true,
    "editable": true
   },
   "outputs": [],
   "source": [
    "\n",
    "    "
   ]
  },
  {
   "cell_type": "markdown",
   "metadata": {
    "deletable": true,
    "editable": true
   },
   "source": []
  },
  {
   "cell_type": "code",
   "execution_count": null,
   "metadata": {
    "collapsed": true
   },
   "outputs": [],
   "source": []
  },
  {
   "cell_type": "code",
   "execution_count": null,
   "metadata": {
    "collapsed": false
   },
   "outputs": [],
   "source": []
  },
  {
   "cell_type": "code",
   "execution_count": null,
   "metadata": {
    "collapsed": true
   },
   "outputs": [],
   "source": []
  },
  {
   "cell_type": "code",
   "execution_count": null,
   "metadata": {
    "collapsed": true
   },
   "outputs": [],
   "source": []
  },
  {
   "cell_type": "code",
   "execution_count": null,
   "metadata": {
    "collapsed": true
   },
   "outputs": [],
   "source": []
  },
  {
   "cell_type": "code",
   "execution_count": null,
   "metadata": {
    "collapsed": true
   },
   "outputs": [],
   "source": []
  }
 ],
 "metadata": {
  "kernelspec": {
   "display_name": "Python 2",
   "language": "python",
   "name": "python2"
  },
  "language_info": {
   "codemirror_mode": {
    "name": "ipython",
    "version": 2
   },
   "file_extension": ".py",
   "mimetype": "text/x-python",
   "name": "python",
   "nbconvert_exporter": "python",
   "pygments_lexer": "ipython2",
   "version": "2.7.12"
  }
 },
 "nbformat": 4,
 "nbformat_minor": 2
}

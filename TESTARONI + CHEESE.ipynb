{
 "cells": [
  {
   "cell_type": "code",
   "execution_count": 73,
   "metadata": {},
   "outputs": [],
   "source": [
    "\n",
    "\n",
    "def readFile(inputFile):\n",
    "    fileobj = open(inputFile, \"r\")\n",
    "    a = list(fileobj)\n",
    "    numNames = int(a[0].split()[0])\n",
    "    numConstraints = int(a[1].split()[0])\n",
    "    constraints = []\n",
    "    for i in a[2:]:\n",
    "        constraints.append(i.split()[:3])\n",
    "    #print(constraints)\n",
    "    return(makeOutsidePairs(numNames, constraints))\n",
    "    \n",
    "def alphaTup(string1, string2):\n",
    "    return tuple([min(string1, string2), max(string1, string2)])\n",
    "\n",
    "def makeOutsidePairs(numNames, constraints):\n",
    "    nameSet = set()\n",
    "    outerSet = set()\n",
    "    for constraint in constraints:\n",
    "        for element in constraint:\n",
    "            nameSet.add(element)\n",
    "        if len(nameSet) == numNames:\n",
    "            break\n",
    "    for name1 in nameSet:\n",
    "        for name2 in nameSet:\n",
    "            outerSet.add(alphaTup(name1, name2))\n",
    "    print(outerSet)\n",
    "\n"
   ]
  },
  {
   "cell_type": "code",
   "execution_count": 74,
   "metadata": {},
   "outputs": [
    {
     "name": "stdout",
     "output_type": "stream",
     "text": [
      "{('Gene', 'Joni'), ('Mckenna', 'Neal'), ('Mckenna', 'Skylar'), ('Curt', 'Curt'), ('Ayesha', 'Conner'), ('Curt', 'Neal'), ('Janette', 'Ruben'), ('Ayesha', 'Daragh'), ('Conner', 'Ruben'), ('Janette', 'Mckenna'), ('Lianne', 'Mckenna'), ('Carla', 'Skylar'), ('Amari', 'Neal'), ('Chase', 'Chase'), ('Amari', 'Curt'), ('Amari', 'Janette'), ('Oisin', 'Ruben'), ('Ayesha', 'Paris'), ('Ayesha', 'Pam'), ('Chase', 'Mckenna'), ('Chase', 'Neal'), ('Carla', 'Dominick'), ('Curt', 'Lianne'), ('Janette', 'Janette'), ('Ruben', 'Skylar'), ('Chase', 'Janette'), ('Amari', 'Mckenna'), ('Joni', 'Lianne'), ('Lianne', 'Neal'), ('Janette', 'Neal'), ('Ayesha', 'Gene'), ('Paris', 'Skylar'), ('Pam', 'Skylar'), ('Amari', 'Chase'), ('Joni', 'Paris'), ('Joni', 'Pam'), ('Curt', 'Mckenna'), ('Gene', 'Paris'), ('Gene', 'Pam'), ('Curt', 'Gene'), ('Amari', 'Ruben'), ('Amari', 'Carla'), ('Mckenna', 'Mckenna'), ('Oisin', 'Skylar'), ('Neal', 'Skylar'), ('Ayesha', 'Lianne'), ('Neal', 'Oisin'), ('Daragh', 'Wesley'), ('Dominick', 'Dominick'), ('Conner', 'Daragh'), ('Ruben', 'Ruben'), ('Daragh', 'Daragh'), ('Conner', 'Gene'), ('Carla', 'Joni'), ('Amari', 'Amari'), ('Amari', 'Daragh'), ('Joni', 'Mckenna'), ('Dominick', 'Wesley'), ('Daragh', 'Dominick'), ('Gene', 'Gene'), ('Curt', 'Paris'), ('Curt', 'Pam'), ('Conner', 'Oisin'), ('Gene', 'Ruben'), ('Ayesha', 'Janette'), ('Carla', 'Conner'), ('Conner', 'Lianne'), ('Carla', 'Neal'), ('Amari', 'Paris'), ('Amari', 'Pam'), ('Ayesha', 'Ayesha'), ('Daragh', 'Ruben'), ('Joni', 'Wesley'), ('Carla', 'Chase'), ('Gene', 'Lianne'), ('Dominick', 'Ruben'), ('Carla', 'Oisin'), ('Conner', 'Neal'), ('Conner', 'Curt'), ('Mckenna', 'Wesley'), ('Carla', 'Paris'), ('Carla', 'Pam'), ('Gene', 'Neal'), ('Daragh', 'Neal'), ('Curt', 'Joni'), ('Chase', 'Paris'), ('Chase', 'Pam'), ('Ayesha', 'Mckenna'), ('Dominick', 'Mckenna'), ('Neal', 'Neal'), ('Daragh', 'Oisin'), ('Ayesha', 'Chase'), ('Gene', 'Oisin'), ('Dominick', 'Janette'), ('Conner', 'Dominick'), ('Ayesha', 'Carla'), ('Joni', 'Ruben'), ('Amari', 'Ayesha'), ('Ayesha', 'Joni'), ('Dominick', 'Gene'), ('Janette', 'Skylar'), ('Conner', 'Skylar'), ('Carla', 'Carla'), ('Paris', 'Wesley'), ('Pam', 'Wesley'), ('Ayesha', 'Wesley'), ('Lianne', 'Oisin'), ('Conner', 'Janette'), ('Daragh', 'Gene'), ('Neal', 'Ruben'), ('Dominick', 'Lianne'), ('Conner', 'Conner'), ('Conner', 'Wesley'), ('Janette', 'Lianne'), ('Curt', 'Janette'), ('Amari', 'Oisin'), ('Daragh', 'Lianne'), ('Chase', 'Joni'), ('Gene', 'Wesley'), ('Curt', 'Skylar'), ('Chase', 'Wesley'), ('Carla', 'Lianne'), ('Curt', 'Dominick'), ('Carla', 'Gene'), ('Conner', 'Joni'), ('Paris', 'Paris'), ('Pam', 'Paris'), ('Pam', 'Pam'), ('Joni', 'Skylar'), ('Amari', 'Joni'), ('Carla', 'Janette'), ('Joni', 'Oisin'), ('Janette', 'Oisin'), ('Lianne', 'Skylar'), ('Carla', 'Curt'), ('Gene', 'Skylar'), ('Daragh', 'Paris'), ('Chase', 'Oisin'), ('Daragh', 'Pam'), ('Chase', 'Skylar'), ('Janette', 'Wesley'), ('Oisin', 'Pam'), ('Oisin', 'Paris'), ('Neal', 'Paris'), ('Neal', 'Pam'), ('Amari', 'Dominick'), ('Dominick', 'Paris'), ('Dominick', 'Pam'), ('Chase', 'Curt'), ('Wesley', 'Wesley'), ('Skylar', 'Skylar'), ('Mckenna', 'Paris'), ('Mckenna', 'Pam'), ('Chase', 'Conner'), ('Amari', 'Wesley'), ('Curt', 'Oisin'), ('Carla', 'Ruben'), ('Conner', 'Paris'), ('Conner', 'Pam'), ('Chase', 'Gene'), ('Mckenna', 'Oisin'), ('Joni', 'Joni'), ('Dominick', 'Neal'), ('Ayesha', 'Skylar'), ('Ayesha', 'Neal'), ('Curt', 'Daragh'), ('Janette', 'Joni'), ('Lianne', 'Wesley'), ('Ayesha', 'Oisin'), ('Ayesha', 'Curt'), ('Chase', 'Lianne'), ('Daragh', 'Joni'), ('Carla', 'Daragh'), ('Paris', 'Ruben'), ('Pam', 'Ruben'), ('Daragh', 'Mckenna'), ('Gene', 'Mckenna'), ('Carla', 'Wesley'), ('Lianne', 'Ruben'), ('Dominick', 'Joni'), ('Neal', 'Wesley'), ('Daragh', 'Janette'), ('Conner', 'Mckenna'), ('Amari', 'Conner'), ('Curt', 'Wesley'), ('Gene', 'Janette'), ('Ayesha', 'Ruben'), ('Chase', 'Dominick'), ('Amari', 'Lianne'), ('Carla', 'Mckenna'), ('Mckenna', 'Ruben'), ('Janette', 'Paris'), ('Janette', 'Pam'), ('Chase', 'Daragh'), ('Oisin', 'Wesley'), ('Skylar', 'Wesley'), ('Lianne', 'Paris'), ('Amari', 'Gene'), ('Lianne', 'Pam'), ('Curt', 'Ruben'), ('Joni', 'Neal'), ('Daragh', 'Skylar'), ('Lianne', 'Lianne'), ('Amari', 'Skylar'), ('Ayesha', 'Dominick'), ('Ruben', 'Wesley'), ('Oisin', 'Oisin'), ('Dominick', 'Oisin'), ('Dominick', 'Skylar'), ('Chase', 'Ruben')}\n"
     ]
    }
   ],
   "source": [
    "readFile(\"phase2_inputs/inputs20/input20_0.in\")"
   ]
  },
  {
   "cell_type": "code",
   "execution_count": null,
   "metadata": {},
   "outputs": [],
   "source": []
  },
  {
   "cell_type": "markdown",
   "metadata": {},
   "source": []
  }
 ],
 "metadata": {
  "kernelspec": {
   "display_name": "Python 3",
   "language": "python",
   "name": "python3"
  },
  "language_info": {
   "codemirror_mode": {
    "name": "ipython",
    "version": 3
   },
   "file_extension": ".py",
   "mimetype": "text/x-python",
   "name": "python",
   "nbconvert_exporter": "python",
   "pygments_lexer": "ipython3",
   "version": "3.6.2"
  }
 },
 "nbformat": 4,
 "nbformat_minor": 2
}
